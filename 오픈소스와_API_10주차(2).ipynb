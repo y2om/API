{
  "nbformat": 4,
  "nbformat_minor": 0,
  "metadata": {
    "colab": {
      "provenance": [],
      "authorship_tag": "ABX9TyPFpYtoCFgnoN2BM01xqByt",
      "include_colab_link": true
    },
    "kernelspec": {
      "name": "python3",
      "display_name": "Python 3"
    },
    "language_info": {
      "name": "python"
    }
  },
  "cells": [
    {
      "cell_type": "markdown",
      "metadata": {
        "id": "view-in-github",
        "colab_type": "text"
      },
      "source": [
        "<a href=\"https://colab.research.google.com/github/y2om/API/blob/main/%EC%98%A4%ED%94%88%EC%86%8C%EC%8A%A4%EC%99%80_API_10%EC%A3%BC%EC%B0%A8(2).ipynb\" target=\"_parent\"><img src=\"https://colab.research.google.com/assets/colab-badge.svg\" alt=\"Open In Colab\"/></a>"
      ]
    },
    {
      "cell_type": "code",
      "execution_count": 9,
      "metadata": {
        "colab": {
          "base_uri": "https://localhost:8080/",
          "height": 520
        },
        "id": "rOW1YgFpSapg",
        "outputId": "fb3562dd-e6f8-4b83-9096-ef9d61d4c20c"
      },
      "outputs": [
        {
          "output_type": "stream",
          "name": "stdout",
          "text": [
            "Downloading data from https://storage.googleapis.com/tensorflow/tf-keras-datasets/mnist.npz\n",
            "11490434/11490434 [==============================] - 0s 0us/step\n",
            "(60000, 28, 28) (10000, 28, 28)\n"
          ]
        },
        {
          "output_type": "display_data",
          "data": {
            "text/plain": [
              "<Figure size 640x480 with 1 Axes>"
            ],
            "image/png": "[encoded data removed]"
          },
          "metadata": {}
        },
        {
          "output_type": "stream",
          "name": "stdout",
          "text": [
            "훈련용 데이터의 형태:  (60000, 784) 테스트용 데이터의 형태 :  (10000, 784)\n"
          ]
        }
      ],
      "source": [
        "import numpy as np\n",
        "import matplotlib.pyplot as plt\n",
        "import tensorflow as tf\n",
        "from tensorflow.keras.datasets import mnist\n",
        "\n",
        "(x_train,t_train),(x_test,t_test)=mnist.load_data()\n",
        "#MNIST 읽어들이기\n",
        "print(x_train.shape,x_test.shape)   #28X28의 손으로 쓴 문자\n",
        "\n",
        "#각 픽셀의 값을 0-1 범위에 넣는다\n",
        "x_train=x_train/255\n",
        "x_test=x_test/255\n",
        "\n",
        "#손으로 쓴 문자 이미지를 1개 표시\n",
        "plt.imshow(x_train[0].reshape(28,28),cmap=\"gray\")\n",
        "plt.title(t_train[0])\n",
        "plt.show()\n",
        "\n",
        "#1차원으로 변환한다 \n",
        "x_train=x_train.reshape(x_train.shape[0],-1)\n",
        "x_test=x_test.reshape(x_test.shape[0],-1)\n",
        "print(\"훈련용 데이터의 형태: \",x_train.shape,\"테스트용 데이터의 형태 : \",x_test.shape)"
      ]
    },
    {
      "cell_type": "code",
      "source": [
        "epochs=20\n",
        "batch_size=128\n",
        "n_in_out=784  #입출력층의 뉴런 수\n",
        "n_mid=64  #중간층의 뉴런 수"
      ],
      "metadata": {
        "id": "kjUsnTVeSiN3"
      },
      "execution_count": 10,
      "outputs": []
    },
    {
      "cell_type": "code",
      "source": [
        "from tensorflow.python.keras.models import Model\n",
        "from tensorflow.python.keras.layers import Input,Dense\n",
        "\n",
        "#각 층\n",
        "x=Input(shape=(n_in_out,))\n",
        "encoder=Dense(n_mid,activation=\"relu\")  #Encoder\n",
        "decoder=Dense(n_in_out,activation=\"sigmoid\")  #Decoder\n",
        "\n",
        "#망\n",
        "h=encoder(x)\n",
        "y=decoder(h)\n",
        "\n",
        "#오토인코더의 모델\n",
        "model_autoencoder = Model(x,y)\n",
        "model_autoencoder.compile(optimizer=\"adam\",loss=\"binary_crossentropy\")\n",
        "model_autoencoder.summary()\n",
        "print()\n",
        "\n",
        "#Encoder만의 모델\n",
        "model_encoder= Model(x,h)\n",
        "model_encoder.summary()\n",
        "print()\n",
        "\n",
        "#Decoder만의 모댈\n",
        "input_decoder=Input(shape=(n_mid,))\n",
        "model_decoder=Model(input_decoder,decoder(input_decoder))\n",
        "model_decoder.summary()"
      ],
      "metadata": {
        "colab": {
          "base_uri": "https://localhost:8080/"
        },
        "id": "95Z4VLnMSlaB",
        "outputId": "a6f1bf37-0e22-40f7-e5ae-4d96c46b0b4a"
      },
      "execution_count": 11,
      "outputs": [
        {
          "output_type": "stream",
          "name": "stdout",
          "text": [
            "Model: \"model_3\"\n",
            "_________________________________________________________________\n",
            "Layer (type)                 Output Shape              Param #   \n",
            "=================================================================\n",
            "input_3 (InputLayer)         [(None, 784)]             0         \n",
            "_________________________________________________________________\n",
            "dense_2 (Dense)              (None, 64)                50240     \n",
            "_________________________________________________________________\n",
            "dense_3 (Dense)              (None, 784)               50960     \n",
            "=================================================================\n",
            "Total params: 101,200\n",
            "Trainable params: 101,200\n",
            "Non-trainable params: 0\n",
            "_________________________________________________________________\n",
            "\n",
            "Model: \"model_4\"\n",
            "_________________________________________________________________\n",
            "Layer (type)                 Output Shape              Param #   \n",
            "=================================================================\n",
            "input_3 (InputLayer)         [(None, 784)]             0         \n",
            "_________________________________________________________________\n",
            "dense_2 (Dense)              (None, 64)                50240     \n",
            "=================================================================\n",
            "Total params: 50,240\n",
            "Trainable params: 50,240\n",
            "Non-trainable params: 0\n",
            "_________________________________________________________________\n",
            "\n",
            "Model: \"model_5\"\n",
            "_________________________________________________________________\n",
            "Layer (type)                 Output Shape              Param #   \n",
            "=================================================================\n",
            "input_4 (InputLayer)         [(None, 64)]              0         \n",
            "_________________________________________________________________\n",
            "dense_3 (Dense)              (None, 784)               50960     \n",
            "=================================================================\n",
            "Total params: 50,960\n",
            "Trainable params: 50,960\n",
            "Non-trainable params: 0\n",
            "_________________________________________________________________\n"
          ]
        }
      ]
    },
    {
      "cell_type": "code",
      "source": [
        "model_autoencoder.fit(x_train,x_train,\n",
        "                      shuffle=True,\n",
        "                      epochs=epochs,\n",
        "                      batch_size=batch_size,\n",
        "                      validation_data=(x_test,x_test))"
      ],
      "metadata": {
        "colab": {
          "base_uri": "https://localhost:8080/"
        },
        "id": "ETQu53YISr2c",
        "outputId": "765d00fd-db06-47fa-946a-639939e8605b"
      },
      "execution_count": 12,
      "outputs": [
        {
          "output_type": "stream",
          "name": "stdout",
          "text": [
            "Epoch 1/20\n",
            "469/469 [==============================] - 5s 9ms/step - loss: 0.1975 - val_loss: 0.1312\n",
            "Epoch 2/20\n",
            "469/469 [==============================] - 4s 8ms/step - loss: 0.1156 - val_loss: 0.1018\n",
            "Epoch 3/20\n",
            "469/469 [==============================] - 5s 10ms/step - loss: 0.0954 - val_loss: 0.0882\n",
            "Epoch 4/20\n",
            "469/469 [==============================] - 4s 8ms/step - loss: 0.0854 - val_loss: 0.0814\n",
            "Epoch 5/20\n",
            "469/469 [==============================] - 4s 8ms/step - loss: 0.0804 - val_loss: 0.0780\n",
            "Epoch 6/20\n",
            "469/469 [==============================] - 4s 9ms/step - loss: 0.0778 - val_loss: 0.0762\n",
            "Epoch 7/20\n",
            "469/469 [==============================] - 4s 9ms/step - loss: 0.0763 - val_loss: 0.0751\n",
            "Epoch 8/20\n",
            "469/469 [==============================] - 4s 8ms/step - loss: 0.0754 - val_loss: 0.0744\n",
            "Epoch 9/20\n",
            "469/469 [==============================] - 4s 8ms/step - loss: 0.0749 - val_loss: 0.0740\n",
            "Epoch 10/20\n",
            "469/469 [==============================] - 5s 10ms/step - loss: 0.0744 - val_loss: 0.0737\n",
            "Epoch 11/20\n",
            "469/469 [==============================] - 4s 8ms/step - loss: 0.0742 - val_loss: 0.0735\n",
            "Epoch 12/20\n",
            "469/469 [==============================] - 5s 10ms/step - loss: 0.0740 - val_loss: 0.0733\n",
            "Epoch 13/20\n",
            "469/469 [==============================] - 6s 13ms/step - loss: 0.0738 - val_loss: 0.0731\n",
            "Epoch 14/20\n",
            "469/469 [==============================] - 4s 8ms/step - loss: 0.0736 - val_loss: 0.0730\n",
            "Epoch 15/20\n",
            "469/469 [==============================] - 6s 12ms/step - loss: 0.0735 - val_loss: 0.0729\n",
            "Epoch 16/20\n",
            "469/469 [==============================] - 7s 14ms/step - loss: 0.0735 - val_loss: 0.0729\n",
            "Epoch 17/20\n",
            "469/469 [==============================] - 7s 14ms/step - loss: 0.0734 - val_loss: 0.0728\n",
            "Epoch 18/20\n",
            "469/469 [==============================] - 5s 10ms/step - loss: 0.0733 - val_loss: 0.0728\n",
            "Epoch 19/20\n",
            "469/469 [==============================] - 3s 7ms/step - loss: 0.0733 - val_loss: 0.0726\n",
            "Epoch 20/20\n",
            "469/469 [==============================] - 4s 8ms/step - loss: 0.0732 - val_loss: 0.0726\n"
          ]
        },
        {
          "output_type": "execute_result",
          "data": {
            "text/plain": [
              "<tensorflow.python.keras.callbacks.History at 0x7f9c028e4be0>"
            ]
          },
          "metadata": {},
          "execution_count": 12
        }
      ]
    },
    {
      "cell_type": "code",
      "source": [
        "encoded = model_encoder.predict(x_test)\n",
        "decoded= model_decoder.predict(encoded)\n",
        "\n",
        "n=8   #표시할 이미지 수\n",
        "plt.figure(figsize=(16,4))\n",
        "for i in range(n):\n",
        "  #입력이미지\n",
        "  ax= plt.subplot(3,n,i+1)\n",
        "  plt.imshow(x_test[i].reshape(28,28),cmap=\"Greys_r\")\n",
        "  ax.get_xaxis().set_visible(False)\n",
        "  ax.get_yaxis().set_visible(False)\n",
        "  #중간층의 출력\n",
        "  ax=plt.subplot(3,n,i+1+n)\n",
        "  plt.imshow(encoded[i].reshape(8,8),cmap=\"Greys_r\")  #ㅇ미지 크니는 중간층의 누런 수에 맞춰서 변경한다\n",
        "  ax.get_xaxis().set_visible(False)\n",
        "  ax.get_yaxis().set_visible(False)\n",
        "\n",
        "  #출력 이미지\n",
        "  ax= plt.subplot(3,n,i+1+2*n)\n",
        "  plt.imshow(decoded[i].reshape(28,28),cmap=\"Greys_r\")\n",
        "  ax.get_xaxis().set_visible(False)\n",
        "  ax.get_yaxis().set_visible(False)\n",
        "\n",
        "plt.show()"
      ],
      "metadata": {
        "colab": {
          "base_uri": "https://localhost:8080/",
          "height": 341
        },
        "id": "3EOl8AXWSu8P",
        "outputId": "ab8749f4-4dee-4e7a-e593-1ce978b248db"
      },
      "execution_count": 13,
      "outputs": [
        {
          "output_type": "display_data",
          "data": {
            "text/plain": [
              "<Figure size 1600x400 with 24 Axes>"
            ],
            "image/png": "[encoded data removed]"
          },
          "metadata": {}
        }
      ]
    }
  ]
}
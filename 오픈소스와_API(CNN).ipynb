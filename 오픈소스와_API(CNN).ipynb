{
  "cells": [
    {
      "cell_type": "markdown",
      "metadata": {
        "id": "view-in-github",
        "colab_type": "text"
      },
      "source": [
        "<a href=\"https://colab.research.google.com/github/y2om/API/blob/main/%EC%98%A4%ED%94%88%EC%86%8C%EC%8A%A4%EC%99%80_API(CNN).ipynb\" target=\"_parent\"><img src=\"https://colab.research.google.com/assets/colab-badge.svg\" alt=\"Open In Colab\"/></a>"
      ]
    },
    {
      "cell_type": "code",
      "execution_count": null,
      "metadata": {
        "colab": {
          "base_uri": "https://localhost:8080/"
        },
        "id": "VGDu0ladxI9N",
        "outputId": "195f679d-b5d4-46e4-8ad3-99e73cd7837d"
      },
      "outputs": [
        {
          "name": "stdout",
          "output_type": "stream",
          "text": [
            "Downloading data from https://www.cs.toronto.edu/~kriz/cifar-10-python.tar.gz\n",
            "170498071/170498071 [==============================] - 4s 0us/step\n"
          ]
        }
      ],
      "source": [
        "import numpy as np \n",
        "import tensorflow as tf\n",
        "\n",
        "from tensorflow.keras. datasets import cifar10\n",
        "from tensorflow. keras.preprocessing.image import ImageDataGenerator\n",
        "\n",
        "(x_train, t_train), (x_test, t_test) = cifar10.load_data()\n",
        "\n",
        "batch_size = 32\n",
        "epochs = 20\n",
        "n_class = 10\n",
        "\n",
        "x_train = x_train/255 # 0에서 1의 범위에 넣는다\n",
        "x_test = x_test/255\n",
        "t_train = tf.keras.utils.to_categorical(t_train, n_class) # one- ->hot 표현으로\n",
        "t_test = tf.keras.utils.to_categorical(t_test, n_class)"
      ]
    },
    {
      "cell_type": "code",
      "execution_count": null,
      "metadata": {
        "id": "XeHcJq4j0bUn"
      },
      "outputs": [],
      "source": [
        "from tensorflow.keras.models import Sequential\n",
        "from tensorflow.keras.layers import Dense,Dropout, Activation,Flatten\n",
        "from tensorflow.keras.layers import Conv2D, MaxPooling2D\n",
        "from tensorflow.keras.optimizers import Adam\n",
        "\n",
        "model=Sequential()"
      ]
    },
    {
      "cell_type": "code",
      "execution_count": null,
      "metadata": {
        "id": "20IHALReACOv"
      },
      "outputs": [],
      "source": [
        "model.add(Conv2D(32,(3,3),padding='same', input_shape=x_train.shape[1:]))#제로 패딩, 배치 크기 이외의 이미지의 형태를 지정\n",
        "model.add(Activation('relu'))\n",
        "model.add(Conv2D(32,(3,3)))\n",
        "model.add(Activation('relu'))\n",
        "model.add(MaxPooling2D(pool_size=(2,2)))\n",
        "\n",
        "model.add(Conv2D(64,(3,3),padding='same'))\n",
        "model.add(Activation('relu'))\n",
        "model.add(Conv2D(64,(3,3)))\n",
        "model.add(Activation('relu'))\n",
        "model.add(MaxPooling2D(pool_size=(2,2)))\n"
      ]
    },
    {
      "cell_type": "code",
      "execution_count": null,
      "metadata": {
        "id": "mQezSApUCB8V"
      },
      "outputs": [],
      "source": [
        "model.add(Flatten())#1차원 배열로 변환\n",
        "model.add(Dense(256))\n",
        "model.add(Activation('relu'))\n",
        "model.add(Dropout(0.5))#드롭아웃\n",
        "model.add(Dense(n_class))\n",
        "model.add(Activation('softmax'))"
      ]
    },
    {
      "cell_type": "code",
      "execution_count": null,
      "metadata": {
        "colab": {
          "base_uri": "https://localhost:8080/"
        },
        "id": "bPSQKzfkCtru",
        "outputId": "ae29dadc-0469-40b3-b4a9-8944288400a6"
      },
      "outputs": [
        {
          "name": "stdout",
          "output_type": "stream",
          "text": [
            "Model: \"sequential\"\n",
            "_________________________________________________________________\n",
            " Layer (type)                Output Shape              Param #   \n",
            "=================================================================\n",
            " conv2d (Conv2D)             (None, 32, 32, 32)        896       \n",
            "                                                                 \n",
            " activation (Activation)     (None, 32, 32, 32)        0         \n",
            "                                                                 \n",
            " conv2d_1 (Conv2D)           (None, 30, 30, 32)        9248      \n",
            "                                                                 \n",
            " activation_1 (Activation)   (None, 30, 30, 32)        0         \n",
            "                                                                 \n",
            " max_pooling2d (MaxPooling2D  (None, 15, 15, 32)       0         \n",
            " )                                                               \n",
            "                                                                 \n",
            " conv2d_2 (Conv2D)           (None, 15, 15, 64)        18496     \n",
            "                                                                 \n",
            " activation_2 (Activation)   (None, 15, 15, 64)        0         \n",
            "                                                                 \n",
            " conv2d_3 (Conv2D)           (None, 13, 13, 64)        36928     \n",
            "                                                                 \n",
            " activation_3 (Activation)   (None, 13, 13, 64)        0         \n",
            "                                                                 \n",
            " max_pooling2d_1 (MaxPooling  (None, 6, 6, 64)         0         \n",
            " 2D)                                                             \n",
            "                                                                 \n",
            " flatten (Flatten)           (None, 2304)              0         \n",
            "                                                                 \n",
            " dense (Dense)               (None, 256)               590080    \n",
            "                                                                 \n",
            " activation_4 (Activation)   (None, 256)               0         \n",
            "                                                                 \n",
            " dropout (Dropout)           (None, 256)               0         \n",
            "                                                                 \n",
            " dense_1 (Dense)             (None, 10)                2570      \n",
            "                                                                 \n",
            " activation_5 (Activation)   (None, 10)                0         \n",
            "                                                                 \n",
            "=================================================================\n",
            "Total params: 658,218\n",
            "Trainable params: 658,218\n",
            "Non-trainable params: 0\n",
            "_________________________________________________________________\n"
          ]
        }
      ],
      "source": [
        "model.compile(optimizer=Adam(),loss='categorical_crossentropy',metrics=['accuracy'])\n",
        "model.summary()"
      ]
    },
    {
      "cell_type": "code",
      "execution_count": null,
      "metadata": {
        "colab": {
          "background_save": true,
          "base_uri": "https://localhost:8080/"
        },
        "id": "d1Rlwdu6DMJB",
        "outputId": "96ade484-e134-4144-9091-381749c16d2c"
      },
      "outputs": [
        {
          "name": "stdout",
          "output_type": "stream",
          "text": [
            "Epoch 1/20\n"
          ]
        },
        {
          "name": "stderr",
          "output_type": "stream",
          "text": [
            "<ipython-input-6-cf60bb2f4798>:8: UserWarning: `Model.fit_generator` is deprecated and will be removed in a future version. Please use `Model.fit`, which supports generators.\n",
            "  history=model.fit_generator(generator.flow(x_train, t_train, batch_size=batch_size),epochs=epochs,validation_data=(x_test,t_test))\n"
          ]
        },
        {
          "name": "stdout",
          "output_type": "stream",
          "text": [
            "1563/1563 [==============================] - 44s 20ms/step - loss: 1.4850 - accuracy: 0.4598 - val_loss: 1.1343 - val_accuracy: 0.5980\n",
            "Epoch 2/20\n",
            "1563/1563 [==============================] - 30s 19ms/step - loss: 1.0916 - accuracy: 0.6154 - val_loss: 0.9391 - val_accuracy: 0.6705\n",
            "Epoch 3/20\n",
            "1563/1563 [==============================] - 30s 19ms/step - loss: 0.9358 - accuracy: 0.6707 - val_loss: 0.8898 - val_accuracy: 0.6924\n",
            "Epoch 4/20\n",
            "1563/1563 [==============================] - 29s 19ms/step - loss: 0.8463 - accuracy: 0.7054 - val_loss: 0.7870 - val_accuracy: 0.7229\n",
            "Epoch 5/20\n",
            "1563/1563 [==============================] - 30s 19ms/step - loss: 0.7861 - accuracy: 0.7278 - val_loss: 0.7432 - val_accuracy: 0.7397\n",
            "Epoch 6/20\n",
            "1563/1563 [==============================] - 30s 19ms/step - loss: 0.7380 - accuracy: 0.7426 - val_loss: 0.7137 - val_accuracy: 0.7509\n",
            "Epoch 7/20\n",
            "1563/1563 [==============================] - 29s 18ms/step - loss: 0.7039 - accuracy: 0.7557 - val_loss: 0.7093 - val_accuracy: 0.7530\n",
            "Epoch 8/20\n",
            "1563/1563 [==============================] - 30s 19ms/step - loss: 0.6706 - accuracy: 0.7659 - val_loss: 0.6851 - val_accuracy: 0.7655\n",
            "Epoch 9/20\n",
            "1563/1563 [==============================] - 28s 18ms/step - loss: 0.6418 - accuracy: 0.7761 - val_loss: 0.6910 - val_accuracy: 0.7686\n",
            "Epoch 10/20\n",
            "1563/1563 [==============================] - 29s 18ms/step - loss: 0.6154 - accuracy: 0.7867 - val_loss: 0.6879 - val_accuracy: 0.7641\n",
            "Epoch 11/20\n",
            "1563/1563 [==============================] - 28s 18ms/step - loss: 0.5954 - accuracy: 0.7950 - val_loss: 0.6708 - val_accuracy: 0.7750\n",
            "Epoch 12/20\n",
            "1563/1563 [==============================] - 28s 18ms/step - loss: 0.5724 - accuracy: 0.7992 - val_loss: 0.6713 - val_accuracy: 0.7807\n",
            "Epoch 13/20\n",
            "1563/1563 [==============================] - 28s 18ms/step - loss: 0.5648 - accuracy: 0.8041 - val_loss: 0.6712 - val_accuracy: 0.7743\n",
            "Epoch 14/20\n",
            "1563/1563 [==============================] - 27s 18ms/step - loss: 0.5384 - accuracy: 0.8097 - val_loss: 0.6713 - val_accuracy: 0.7788\n",
            "Epoch 15/20\n",
            "1563/1563 [==============================] - 27s 18ms/step - loss: 0.5214 - accuracy: 0.8166 - val_loss: 0.6562 - val_accuracy: 0.7849\n",
            "Epoch 16/20\n",
            "1563/1563 [==============================] - 28s 18ms/step - loss: 0.5104 - accuracy: 0.8203 - val_loss: 0.6705 - val_accuracy: 0.7880\n",
            "Epoch 17/20\n",
            "1563/1563 [==============================] - 28s 18ms/step - loss: 0.4992 - accuracy: 0.8243 - val_loss: 0.6888 - val_accuracy: 0.7790\n",
            "Epoch 18/20\n",
            "1563/1563 [==============================] - 28s 18ms/step - loss: 0.4818 - accuracy: 0.8303 - val_loss: 0.6862 - val_accuracy: 0.7846\n",
            "Epoch 19/20\n",
            "1563/1563 [==============================] - 28s 18ms/step - loss: 0.4705 - accuracy: 0.8336 - val_loss: 0.6719 - val_accuracy: 0.7790\n",
            "Epoch 20/20\n",
            "1563/1563 [==============================] - 27s 18ms/step - loss: 0.4668 - accuracy: 0.8361 - val_loss: 0.6973 - val_accuracy: 0.7822\n"
          ]
        }
      ],
      "source": [
        "from tensorflow.keras.preprocessing.image import ImageDataGenerator\n",
        "\n",
        "generator=ImageDataGenerator(\n",
        "    rotation_range=0.2,\n",
        "    horizontal_flip=True)\n",
        "generator.fit(x_train)\n",
        "\n",
        "history=model.fit_generator(generator.flow(x_train, t_train, batch_size=batch_size),epochs=epochs,validation_data=(x_test,t_test))"
      ]
    },
    {
      "cell_type": "code",
      "execution_count": null,
      "metadata": {
        "colab": {
          "base_uri": "https://localhost:8080/"
        },
        "id": "kicG63WsEENe",
        "outputId": "f88cce7e-bf4c-4f7b-f5f9-6e7021e693ae"
      },
      "outputs": [
        {
          "name": "stdout",
          "output_type": "stream",
          "text": [
            "Epoch 1/20\n",
            "   4/1563 [..............................] - ETA: 29s - loss: 0.3489 - accuracy: 0.8750"
          ]
        },
        {
          "name": "stderr",
          "output_type": "stream",
          "text": [
            "<ipython-input-29-6360965e6fc4>:7: UserWarning: `Model.fit_generator` is deprecated and will be removed in a future version. Please use `Model.fit`, which supports generators.\n",
            "  history=model.fit_generator(generator.flow(x_train,t_train,batch_size=batch_size),epochs=epochs, validation_data=(x_test,t_test))\n"
          ]
        },
        {
          "name": "stdout",
          "output_type": "stream",
          "text": [
            "1563/1563 [==============================] - 29s 19ms/step - loss: 0.4309 - accuracy: 0.8493 - val_loss: 0.6882 - val_accuracy: 0.7829\n",
            "Epoch 2/20\n",
            "1563/1563 [==============================] - 29s 19ms/step - loss: 0.4177 - accuracy: 0.8534 - val_loss: 0.6822 - val_accuracy: 0.7937\n",
            "Epoch 3/20\n",
            "1563/1563 [==============================] - 29s 19ms/step - loss: 0.4116 - accuracy: 0.8560 - val_loss: 0.6766 - val_accuracy: 0.7945\n",
            "Epoch 4/20\n",
            "1563/1563 [==============================] - 30s 19ms/step - loss: 0.4022 - accuracy: 0.8568 - val_loss: 0.7062 - val_accuracy: 0.7913\n",
            "Epoch 5/20\n",
            "1563/1563 [==============================] - 30s 19ms/step - loss: 0.3944 - accuracy: 0.8601 - val_loss: 0.6912 - val_accuracy: 0.7917\n",
            "Epoch 6/20\n",
            "1563/1563 [==============================] - 29s 19ms/step - loss: 0.3890 - accuracy: 0.8616 - val_loss: 0.7215 - val_accuracy: 0.7909\n",
            "Epoch 7/20\n",
            "1563/1563 [==============================] - 31s 20ms/step - loss: 0.3851 - accuracy: 0.8652 - val_loss: 0.6976 - val_accuracy: 0.7942\n",
            "Epoch 8/20\n",
            "1563/1563 [==============================] - 29s 19ms/step - loss: 0.3701 - accuracy: 0.8705 - val_loss: 0.7451 - val_accuracy: 0.7896\n",
            "Epoch 9/20\n",
            "1563/1563 [==============================] - 29s 19ms/step - loss: 0.3722 - accuracy: 0.8691 - val_loss: 0.7722 - val_accuracy: 0.7812\n",
            "Epoch 10/20\n",
            "1563/1563 [==============================] - 30s 19ms/step - loss: 0.3676 - accuracy: 0.8697 - val_loss: 0.7074 - val_accuracy: 0.7958\n",
            "Epoch 11/20\n",
            "1563/1563 [==============================] - 29s 18ms/step - loss: 0.3553 - accuracy: 0.8737 - val_loss: 0.7528 - val_accuracy: 0.7910\n",
            "Epoch 12/20\n",
            "1563/1563 [==============================] - 29s 19ms/step - loss: 0.3499 - accuracy: 0.8757 - val_loss: 0.7376 - val_accuracy: 0.7933\n",
            "Epoch 13/20\n",
            "1563/1563 [==============================] - 30s 19ms/step - loss: 0.3395 - accuracy: 0.8815 - val_loss: 0.7078 - val_accuracy: 0.8000\n",
            "Epoch 14/20\n",
            "1563/1563 [==============================] - 29s 18ms/step - loss: 0.3398 - accuracy: 0.8788 - val_loss: 0.7811 - val_accuracy: 0.7921\n",
            "Epoch 15/20\n",
            "1563/1563 [==============================] - 30s 19ms/step - loss: 0.3362 - accuracy: 0.8816 - val_loss: 0.7322 - val_accuracy: 0.7892\n",
            "Epoch 16/20\n",
            "1563/1563 [==============================] - 30s 19ms/step - loss: 0.3326 - accuracy: 0.8823 - val_loss: 0.7949 - val_accuracy: 0.7931\n",
            "Epoch 17/20\n",
            "1563/1563 [==============================] - 31s 20ms/step - loss: 0.3321 - accuracy: 0.8825 - val_loss: 0.7597 - val_accuracy: 0.7915\n",
            "Epoch 18/20\n",
            "1563/1563 [==============================] - 30s 19ms/step - loss: 0.3285 - accuracy: 0.8857 - val_loss: 0.7438 - val_accuracy: 0.7940\n",
            "Epoch 19/20\n",
            "1563/1563 [==============================] - 30s 19ms/step - loss: 0.3152 - accuracy: 0.8884 - val_loss: 0.7861 - val_accuracy: 0.7951\n",
            "Epoch 20/20\n",
            "1563/1563 [==============================] - 29s 18ms/step - loss: 0.3178 - accuracy: 0.8884 - val_loss: 0.8127 - val_accuracy: 0.7960\n"
          ]
        }
      ],
      "source": [
        "from tensorflow.keras.preprocessing.image import ImageDataGenerator\n",
        "\n",
        "generator=ImageDataGenerator(\n",
        "    rotation_range=0.2,\n",
        "    horizontal_flip=True)\n",
        "generator.fit(x_train)\n",
        "history=model.fit_generator(generator.flow(x_train,t_train,batch_size=batch_size),epochs=epochs, validation_data=(x_test,t_test))"
      ]
    }
  ],
  "metadata": {
    "accelerator": "GPU",
    "colab": {
      "provenance": [],
      "authorship_tag": "ABX9TyOrkQvxxEMb6ohNYD/WEpQG",
      "include_colab_link": true
    },
    "gpuClass": "standard",
    "kernelspec": {
      "display_name": "Python 3",
      "name": "python3"
    },
    "language_info": {
      "name": "python"
    }
  },
  "nbformat": 4,
  "nbformat_minor": 0
}
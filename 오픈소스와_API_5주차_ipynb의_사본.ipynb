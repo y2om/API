{
  "nbformat": 4,
  "nbformat_minor": 0,
  "metadata": {
    "colab": {
      "provenance": [],
      "mount_file_id": "1Ld8rtDlOOVAFQZx37FkX82vu8OWg2evO",
      "authorship_tag": "ABX9TyM5r/nC8ill2BGldT2YKJsM",
      "include_colab_link": true
    },
    "kernelspec": {
      "name": "python3",
      "display_name": "Python 3"
    },
    "language_info": {
      "name": "python"
    }
  },
  "cells": [
    {
      "cell_type": "markdown",
      "metadata": {
        "id": "view-in-github",
        "colab_type": "text"
      },
      "source": [
        "<a href=\"https://colab.research.google.com/github/y2om/API/blob/main/%EC%98%A4%ED%94%88%EC%86%8C%EC%8A%A4%EC%99%80_API_5%EC%A3%BC%EC%B0%A8_ipynb%EC%9D%98_%EC%82%AC%EB%B3%B8.ipynb\" target=\"_parent\"><img src=\"https://colab.research.google.com/assets/colab-badge.svg\" alt=\"Open In Colab\"/></a>"
      ]
    },
    {
      "cell_type": "code",
      "execution_count": null,
      "metadata": {
        "id": "dwu_i4NYkgro"
      },
      "outputs": [],
      "source": [
        "aaaaaaaaaaaa\n",
        "bbbbbbbbbbbbbb"
      ]
    }
  ]
}
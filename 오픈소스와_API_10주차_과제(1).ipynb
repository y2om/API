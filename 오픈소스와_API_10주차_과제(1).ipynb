{
  "nbformat": 4,
  "nbformat_minor": 0,
  "metadata": {
    "colab": {
      "provenance": [],
      "gpuType": "T4",
      "mount_file_id": "17hWGL00G7s5cIHUUpslDFGuGKKNxTPZZ",
      "authorship_tag": "ABX9TyNmWlcdj0+8JW0vq2J4p/5R",
      "include_colab_link": true
    },
    "kernelspec": {
      "name": "python3",
      "display_name": "Python 3"
    },
    "language_info": {
      "name": "python"
    },
    "accelerator": "GPU",
    "gpuClass": "standard"
  },
  "cells": [
    {
      "cell_type": "markdown",
      "metadata": {
        "id": "view-in-github",
        "colab_type": "text"
      },
      "source": [
        "<a href=\"https://colab.research.google.com/github/y2om/API/blob/main/%EC%98%A4%ED%94%88%EC%86%8C%EC%8A%A4%EC%99%80_API_10%EC%A3%BC%EC%B0%A8_%EA%B3%BC%EC%A0%9C(1).ipynb\" target=\"_parent\"><img src=\"https://colab.research.google.com/assets/colab-badge.svg\" alt=\"Open In Colab\"/></a>"
      ]
    },
    {
      "cell_type": "code",
      "execution_count": 2,
      "metadata": {
        "colab": {
          "base_uri": "https://localhost:8080/",
          "height": 622
        },
        "id": "Q8OJ34GXVSfU",
        "outputId": "01d3e9c0-d873-4732-f3ad-fbad786e94f6"
      },
      "outputs": [
        {
          "output_type": "stream",
          "name": "stdout",
          "text": [
            "Downloading data from https://storage.googleapis.com/tensorflow/tf-keras-datasets/train-labels-idx1-ubyte.gz\n",
            "29515/29515 [==============================] - 0s 0us/step\n",
            "Downloading data from https://storage.googleapis.com/tensorflow/tf-keras-datasets/train-images-idx3-ubyte.gz\n",
            "26421880/26421880 [==============================] - 1s 0us/step\n",
            "Downloading data from https://storage.googleapis.com/tensorflow/tf-keras-datasets/t10k-labels-idx1-ubyte.gz\n",
            "5148/5148 [==============================] - 0s 0us/step\n",
            "Downloading data from https://storage.googleapis.com/tensorflow/tf-keras-datasets/t10k-images-idx3-ubyte.gz\n",
            "4422102/4422102 [==============================] - 1s 0us/step\n",
            "(60000, 28, 28) (10000, 28, 28)\n"
          ]
        },
        {
          "output_type": "display_data",
          "data": {
            "text/plain": [
              "<Figure size 640x480 with 1 Axes>"
            ],
            "image/png": "[encoded data removed]"
          },
          "metadata": {}
        },
        {
          "output_type": "stream",
          "name": "stdout",
          "text": [
            "훈련용 데이터의 형태:  (60000, 784) 테스트용 데이터의 형태 :  (10000, 784)\n"
          ]
        }
      ],
      "source": [
        "import numpy as np\n",
        "import matplotlib.pyplot as plt\n",
        "import tensorflow as tf\n",
        "from tensorflow.keras.datasets import fashion_mnist\n",
        "\n",
        "(x_train,t_train),(x_test,t_test)=fashion_mnist.load_data()\n",
        "#MNIST 읽어들이기\n",
        "print(x_train.shape,x_test.shape)   #28X28의 손으로 쓴 문자\n",
        "\n",
        "#각 픽셀의 값을 0-1 범위에 넣는다\n",
        "x_train=x_train/255\n",
        "x_test=x_test/255\n",
        "\n",
        "#손으로 쓴 문자 이미지를 1개 표시\n",
        "plt.imshow(x_train[0].reshape(28,28),cmap=\"gray\")\n",
        "plt.title(t_train[0])\n",
        "plt.show()\n",
        "\n",
        "#1차원으로 변환한다 \n",
        "x_train=x_train.reshape(x_train.shape[0],-1)\n",
        "x_test=x_test.reshape(x_test.shape[0],-1)\n",
        "print(\"훈련용 데이터의 형태: \",x_train.shape,\"테스트용 데이터의 형태 : \",x_test.shape)"
      ]
    },
    {
      "cell_type": "code",
      "source": [
        "epochs=20\n",
        "batch_size=128\n",
        "n_in_out=784  #입출력층의 뉴런 수\n",
        "n_mid=64  #중간층의 뉴런 수"
      ],
      "metadata": {
        "id": "aCoyxVTOWOM3"
      },
      "execution_count": 3,
      "outputs": []
    },
    {
      "cell_type": "code",
      "source": [
        "from tensorflow.python.keras.models import Model\n",
        "from tensorflow.python.keras.layers import Input,Dense\n",
        "\n",
        "#각 층\n",
        "x=Input(shape=(n_in_out,))\n",
        "encoder=Dense(n_mid,activation=\"relu\")  #Encoder\n",
        "decoder=Dense(n_in_out,activation=\"sigmoid\")  #Decoder\n",
        "\n",
        "#망\n",
        "h=encoder(x)\n",
        "y=decoder(h)\n",
        "\n",
        "#오토인코더의 모델\n",
        "model_autoencoder = Model(x,y)\n",
        "model_autoencoder.compile(optimizer=\"adam\",loss=\"binary_crossentropy\")\n",
        "model_autoencoder.summary()\n",
        "print()\n",
        "\n",
        "#Encoder만의 모델\n",
        "model_encoder= Model(x,h)\n",
        "model_encoder.summary()\n",
        "print()\n",
        "\n",
        "#Decoder만의 모댈\n",
        "input_decoder=Input(shape=(n_mid,))\n",
        "model_decoder=Model(input_decoder,decoder(input_decoder))\n",
        "model_decoder.summary()"
      ],
      "metadata": {
        "colab": {
          "base_uri": "https://localhost:8080/"
        },
        "id": "OAUY8gG8XZby",
        "outputId": "6d30bca1-be4f-476f-8520-778f8a866e6d"
      },
      "execution_count": 4,
      "outputs": [
        {
          "output_type": "stream",
          "name": "stdout",
          "text": [
            "Model: \"model\"\n",
            "_________________________________________________________________\n",
            "Layer (type)                 Output Shape              Param #   \n",
            "=================================================================\n",
            "input_1 (InputLayer)         [(None, 784)]             0         \n",
            "_________________________________________________________________\n",
            "dense (Dense)                (None, 64)                50240     \n",
            "_________________________________________________________________\n",
            "dense_1 (Dense)              (None, 784)               50960     \n",
            "=================================================================\n",
            "Total params: 101,200\n",
            "Trainable params: 101,200\n",
            "Non-trainable params: 0\n",
            "_________________________________________________________________\n",
            "\n",
            "Model: \"model_1\"\n",
            "_________________________________________________________________\n",
            "Layer (type)                 Output Shape              Param #   \n",
            "=================================================================\n",
            "input_1 (InputLayer)         [(None, 784)]             0         \n",
            "_________________________________________________________________\n",
            "dense (Dense)                (None, 64)                50240     \n",
            "=================================================================\n",
            "Total params: 50,240\n",
            "Trainable params: 50,240\n",
            "Non-trainable params: 0\n",
            "_________________________________________________________________\n",
            "\n",
            "Model: \"model_2\"\n",
            "_________________________________________________________________\n",
            "Layer (type)                 Output Shape              Param #   \n",
            "=================================================================\n",
            "input_2 (InputLayer)         [(None, 64)]              0         \n",
            "_________________________________________________________________\n",
            "dense_1 (Dense)              (None, 784)               50960     \n",
            "=================================================================\n",
            "Total params: 50,960\n",
            "Trainable params: 50,960\n",
            "Non-trainable params: 0\n",
            "_________________________________________________________________\n"
          ]
        }
      ]
    },
    {
      "cell_type": "code",
      "source": [
        "model_autoencoder.fit(x_train,x_train,\n",
        "                      shuffle=True,\n",
        "                      epochs=epochs,\n",
        "                      batch_size=batch_size,\n",
        "                      validation_data=(x_test,x_test))"
      ],
      "metadata": {
        "colab": {
          "base_uri": "https://localhost:8080/"
        },
        "id": "UWUmlxc7ZHP9",
        "outputId": "3ebe2513-456a-4bf2-9ce3-e1fb9290628b"
      },
      "execution_count": 5,
      "outputs": [
        {
          "output_type": "stream",
          "name": "stdout",
          "text": [
            "Epoch 1/20\n",
            "469/469 [==============================] - 6s 3ms/step - loss: 0.3568 - val_loss: 0.3111\n",
            "Epoch 2/20\n",
            "469/469 [==============================] - 1s 3ms/step - loss: 0.2983 - val_loss: 0.2925\n",
            "Epoch 3/20\n",
            "469/469 [==============================] - 1s 3ms/step - loss: 0.2861 - val_loss: 0.2849\n",
            "Epoch 4/20\n",
            "469/469 [==============================] - 2s 3ms/step - loss: 0.2807 - val_loss: 0.2811\n",
            "Epoch 5/20\n",
            "469/469 [==============================] - 2s 4ms/step - loss: 0.2778 - val_loss: 0.2789\n",
            "Epoch 6/20\n",
            "469/469 [==============================] - 2s 4ms/step - loss: 0.2760 - val_loss: 0.2774\n",
            "Epoch 7/20\n",
            "469/469 [==============================] - 1s 3ms/step - loss: 0.2748 - val_loss: 0.2765\n",
            "Epoch 8/20\n",
            "469/469 [==============================] - 1s 3ms/step - loss: 0.2738 - val_loss: 0.2757\n",
            "Epoch 9/20\n",
            "469/469 [==============================] - 1s 3ms/step - loss: 0.2731 - val_loss: 0.2749\n",
            "Epoch 10/20\n",
            "469/469 [==============================] - 1s 3ms/step - loss: 0.2726 - val_loss: 0.2747\n",
            "Epoch 11/20\n",
            "469/469 [==============================] - 1s 3ms/step - loss: 0.2722 - val_loss: 0.2743\n",
            "Epoch 12/20\n",
            "469/469 [==============================] - 1s 3ms/step - loss: 0.2720 - val_loss: 0.2740\n",
            "Epoch 13/20\n",
            "469/469 [==============================] - 1s 3ms/step - loss: 0.2717 - val_loss: 0.2739\n",
            "Epoch 14/20\n",
            "469/469 [==============================] - 2s 4ms/step - loss: 0.2715 - val_loss: 0.2737\n",
            "Epoch 15/20\n",
            "469/469 [==============================] - 2s 4ms/step - loss: 0.2714 - val_loss: 0.2736\n",
            "Epoch 16/20\n",
            "469/469 [==============================] - 1s 3ms/step - loss: 0.2712 - val_loss: 0.2736\n",
            "Epoch 17/20\n",
            "469/469 [==============================] - 1s 3ms/step - loss: 0.2711 - val_loss: 0.2733\n",
            "Epoch 18/20\n",
            "469/469 [==============================] - 1s 3ms/step - loss: 0.2710 - val_loss: 0.2733\n",
            "Epoch 19/20\n",
            "469/469 [==============================] - 1s 3ms/step - loss: 0.2709 - val_loss: 0.2732\n",
            "Epoch 20/20\n",
            "469/469 [==============================] - 1s 3ms/step - loss: 0.2709 - val_loss: 0.2733\n"
          ]
        },
        {
          "output_type": "execute_result",
          "data": {
            "text/plain": [
              "<tensorflow.python.keras.callbacks.History at 0x7fa82c370880>"
            ]
          },
          "metadata": {},
          "execution_count": 5
        }
      ]
    },
    {
      "cell_type": "code",
      "source": [
        "encoded = model_encoder.predict(x_test)\n",
        "decoded= model_decoder.predict(encoded)\n",
        "\n",
        "n=8   #표시할 이미지 수\n",
        "plt.figure(figsize=(16,4))\n",
        "for i in range(n):\n",
        "  #입력이미지\n",
        "  ax= plt.subplot(3,n,i+1)\n",
        "  plt.imshow(x_test[i].reshape(28,28),cmap=\"Greys_r\")\n",
        "  ax.get_xaxis().set_visible(False)\n",
        "  ax.get_yaxis().set_visible(False)\n",
        "  #중간층의 출력\n",
        "  ax=plt.subplot(3,n,i+1+n)\n",
        "  plt.imshow(encoded[i].reshape(8,8),cmap=\"Greys_r\")  #ㅇ미지 크니는 중간층의 누런 수에 맞춰서 변경한다\n",
        "  ax.get_xaxis().set_visible(False)\n",
        "  ax.get_yaxis().set_visible(False)\n",
        "\n",
        "  #출력 이미지\n",
        "  ax= plt.subplot(3,n,i+1+2*n)\n",
        "  plt.imshow(decoded[i].reshape(28,28),cmap=\"Greys_r\")\n",
        "  ax.get_xaxis().set_visible(False)\n",
        "  ax.get_yaxis().set_visible(False)\n",
        "\n",
        "plt.show()"
      ],
      "metadata": {
        "colab": {
          "base_uri": "https://localhost:8080/",
          "height": 341
        },
        "id": "xH4LHiNLqlpt",
        "outputId": "4ac9f264-d526-44b9-caac-6a9603fcbb54"
      },
      "execution_count": 6,
      "outputs": [
        {
          "output_type": "display_data",
          "data": {
            "text/plain": [
              "<Figure size 1600x400 with 24 Axes>"
            ],
            "image/png": "[encoded data removed]"
          },
          "metadata": {}
        }
      ]
    }
  ]
}